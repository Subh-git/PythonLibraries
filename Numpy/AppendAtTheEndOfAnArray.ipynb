{
 "cells": [
  {
   "cell_type": "code",
   "execution_count": 2,
   "metadata": {},
   "outputs": [
    {
     "data": {
      "text/plain": [
       "'\\n@Author: Subhadeep Bhattacharjee\\n@Date: 2021:12:05 11:20\\n@Title: Append at the end of an array\\n\\n'"
      ]
     },
     "execution_count": 2,
     "metadata": {},
     "output_type": "execute_result"
    }
   ],
   "source": [
    "'''\n",
    "@Author: Subhadeep Bhattacharjee\n",
    "@Date: 2021:12:05 11:20\n",
    "@Title: Append at the end of an array\n",
    "\n",
    "'''"
   ]
  },
  {
   "cell_type": "code",
   "execution_count": 6,
   "metadata": {},
   "outputs": [
    {
     "name": "stdout",
     "output_type": "stream",
     "text": [
      "[10 20 30 40 50 60 70 80 90]\n"
     ]
    }
   ],
   "source": [
    "import numpy as np\n",
    "\n",
    "def append_at_end(n,arr):\n",
    "\n",
    "    '''\n",
    "    Description: \n",
    "        This function is used to append values at the end of an array.\n",
    "    Parameter:\n",
    "        This takes a paramter about the number of values and the arr.\n",
    "    Returns:\n",
    "        An array with the added items.\n",
    "\n",
    "    '''\n",
    "    count = 0\n",
    "    array = np.array(arr) \n",
    "    try:\n",
    "        while count < n:\n",
    "            value = int(input(\"Please enter the values: \")) \n",
    "            array = np.append(array, value)\n",
    "            count+=1\n",
    "        \n",
    "    except ValueError:\n",
    "        print(\"Invalid input\")\n",
    "    \n",
    "    return array\n",
    "\n",
    "list = [10,20,30]\n",
    "print(append_at_end(6,list))\n",
    "\n",
    "\n",
    "\n",
    "\n"
   ]
  }
 ],
 "metadata": {
  "interpreter": {
   "hash": "31f2aee4e71d21fbe5cf8b01ff0e069b9275f58929596ceb00d14d90e3e16cd6"
  },
  "kernelspec": {
   "display_name": "Python 3.8.10 64-bit",
   "language": "python",
   "name": "python3"
  },
  "language_info": {
   "codemirror_mode": {
    "name": "ipython",
    "version": 3
   },
   "file_extension": ".py",
   "mimetype": "text/x-python",
   "name": "python",
   "nbconvert_exporter": "python",
   "pygments_lexer": "ipython3",
   "version": "3.8.10"
  },
  "orig_nbformat": 4
 },
 "nbformat": 4,
 "nbformat_minor": 2
}
