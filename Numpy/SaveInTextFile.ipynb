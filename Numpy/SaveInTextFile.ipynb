{
 "cells": [
  {
   "cell_type": "code",
   "execution_count": null,
   "metadata": {},
   "outputs": [],
   "source": [
    "'''\n",
    "@Author: Subhadeep Bhattacharjee\n",
    "@Date: 2021:12:05 12:30\n",
    "@Title: Save an array in text file\n",
    "\n",
    "'''"
   ]
  },
  {
   "cell_type": "code",
   "execution_count": 4,
   "metadata": {},
   "outputs": [
    {
     "name": "stdout",
     "output_type": "stream",
     "text": [
      "The array is:  [10 20 30 40]\n",
      "[10. 20. 30. 40.]\n",
      "The contents of the table are: \n",
      "1.000000000000000000e+01\n",
      "\n",
      "2.000000000000000000e+01\n",
      "\n",
      "3.000000000000000000e+01\n",
      "\n",
      "4.000000000000000000e+01\n",
      "\n"
     ]
    }
   ],
   "source": [
    "import numpy as np\n",
    "\n",
    "arr = np.array([10,20,30,40])\n",
    "print(\"The array is: \",arr)\n",
    "\n",
    "np.savetxt(\"SaveFile.txt\", arr)\n",
    "array = np.loadtxt(\"SaveFile.txt\")\n",
    "print(array)\n",
    "file = open(\"SaveFile.txt\", 'r')\n",
    "print(\"The contents of the table are: \")\n",
    "for i in file:\n",
    "    print(i) \n"
   ]
  }
 ],
 "metadata": {
  "interpreter": {
   "hash": "31f2aee4e71d21fbe5cf8b01ff0e069b9275f58929596ceb00d14d90e3e16cd6"
  },
  "kernelspec": {
   "display_name": "Python 3.8.10 64-bit",
   "language": "python",
   "name": "python3"
  },
  "language_info": {
   "codemirror_mode": {
    "name": "ipython",
    "version": 3
   },
   "file_extension": ".py",
   "mimetype": "text/x-python",
   "name": "python",
   "nbconvert_exporter": "python",
   "pygments_lexer": "ipython3",
   "version": "3.8.10"
  },
  "orig_nbformat": 4
 },
 "nbformat": 4,
 "nbformat_minor": 2
}
