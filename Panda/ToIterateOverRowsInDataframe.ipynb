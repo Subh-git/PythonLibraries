{
 "cells": [
  {
   "cell_type": "code",
   "execution_count": null,
   "metadata": {},
   "outputs": [],
   "source": [
    "'''\n",
    "@Author: Subhadeep Bhattacharjee\n",
    "@Date: 2021-12-06 21:30\n",
    "@Title: To iterate over rows in dataframe \n",
    "\n",
    "'''"
   ]
  },
  {
   "cell_type": "code",
   "execution_count": 9,
   "metadata": {},
   "outputs": [
    {
     "name": "stdout",
     "output_type": "stream",
     "text": [
      "Pandas(Index='a', name='Anastasia', score=12.5, attempts=1, qualify='yes')\n",
      "Pandas(Index='b', name='Dima', score=9.0, attempts=3, qualify='no')\n",
      "Pandas(Index='c', name='Katherine', score=16.5, attempts=2, qualify='yes')\n",
      "Pandas(Index='d', name='James', score=nan, attempts=3, qualify='no')\n",
      "Pandas(Index='e', name='Emily', score=9.0, attempts=2, qualify='no')\n",
      "Pandas(Index='f', name='Michael', score=20.0, attempts=3, qualify='yes')\n",
      "Pandas(Index='g', name='Matthew', score=14.5, attempts=1, qualify='yes')\n",
      "Pandas(Index='h', name='Laura', score=nan, attempts=1, qualify='no')\n",
      "Pandas(Index='i', name='Kevin', score=8.0, attempts=2, qualify='no')\n",
      "Pandas(Index='j', name='Jonas', score=19.0, attempts=1, qualify='yes')\n",
      "Anastasia 1 12.5\n",
      "Dima 3 9.0\n",
      "Katherine 2 16.5\n",
      "James 3 nan\n",
      "Emily 2 9.0\n",
      "Michael 3 20.0\n",
      "Matthew 1 14.5\n",
      "Laura 1 nan\n",
      "Kevin 2 8.0\n",
      "Jonas 1 19.0\n"
     ]
    }
   ],
   "source": [
    "import pandas as pd\n",
    "import numpy as np\n",
    "\n",
    "exam_data  = {'name': ['Anastasia', 'Dima', 'Katherine', 'James', 'Emily', 'Michael', 'Matthew', 'Laura', 'Kevin', 'Jonas'],\n",
    "        'score': [12.5, 9, 16.5, np.nan, 9, 20, 14.5, np.nan, 8, 19],\n",
    "        'attempts': [1, 3, 2, 3, 2, 3, 1, 1, 2, 1],\n",
    "        'qualify': ['yes', 'no', 'yes', 'no', 'no', 'yes', 'yes', 'no', 'no', 'yes']}\n",
    "labels = ['a', 'b', 'c', 'd', 'e', 'f', 'g', 'h', 'i', 'j']\n",
    "\n",
    "df = pd.DataFrame(exam_data , index=labels)\n",
    "\n",
    "for i in df.itertuples():\n",
    "    print(i)\n",
    "\n",
    "for inddx,rows in df.iterrows():\n",
    "    print(rows['name'],rows['attempts'],rows['score'])       #here rows tells us about the datatype\n"
   ]
  }
 ],
 "metadata": {
  "interpreter": {
   "hash": "31f2aee4e71d21fbe5cf8b01ff0e069b9275f58929596ceb00d14d90e3e16cd6"
  },
  "kernelspec": {
   "display_name": "Python 3.8.10 64-bit",
   "language": "python",
   "name": "python3"
  },
  "language_info": {
   "codemirror_mode": {
    "name": "ipython",
    "version": 3
   },
   "file_extension": ".py",
   "mimetype": "text/x-python",
   "name": "python",
   "nbconvert_exporter": "python",
   "pygments_lexer": "ipython3",
   "version": "3.8.10"
  },
  "orig_nbformat": 4
 },
 "nbformat": 4,
 "nbformat_minor": 2
}
