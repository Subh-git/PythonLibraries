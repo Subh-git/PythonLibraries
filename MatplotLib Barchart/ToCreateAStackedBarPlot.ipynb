{
 "cells": [
  {
   "cell_type": "code",
   "execution_count": null,
   "metadata": {},
   "outputs": [],
   "source": [
    "'''\n",
    "@Author: Subhadeep Bhattacharjee\n",
    "@Date: 2021:12:08 11:30\n",
    "@Title: To create a stacked bar plot of men and women along with error bar.\n",
    "\n",
    "'''"
   ]
  },
  {
   "cell_type": "code",
   "execution_count": 4,
   "metadata": {},
   "outputs": [
    {
     "data": {
      "image/png": "[encoded data removed]",
      "text/plain": [
       "<Figure size 432x288 with 1 Axes>"
      ]
     },
     "metadata": {
      "needs_background": "light"
     },
     "output_type": "display_data"
    }
   ],
   "source": [
    "import numpy as np\n",
    "import matplotlib.pyplot as plt\n",
    "\n",
    "N = 5\n",
    "menMeans = (22, 30, 35, 35, 26)\n",
    "womenMeans = (25, 32, 30, 35, 29)\n",
    "menStd = (4, 3, 4, 1, 5)\n",
    "womenStd = (3, 5, 2, 3, 3)\n",
    "# the x locations for the groups\n",
    "ind = np.arange(N)    \n",
    "# the width of the bars\n",
    "width = 0.35      \n",
    "\n",
    "p1 = plt.bar(ind, menMeans, width, yerr=menStd, color='yellow')\n",
    "p2 = plt.bar(ind, womenMeans, width,\n",
    "bottom=menMeans, yerr=womenStd, color='cyan')\n",
    "\n",
    "plt.ylabel('Scores')\n",
    "plt.xlabel('Groups')\n",
    "plt.title('Scores by group\\n' + 'and gender')\n",
    "plt.xticks(ind, ('Group1', 'Group2', 'Group3', 'Group4', 'Group5'))\n",
    "plt.yticks(np.arange(0, 81, 10))\n",
    "plt.legend((p1[0], p2[0]), ('Men', 'Women'))\n",
    "\n",
    "plt.show()"
   ]
  }
 ],
 "metadata": {
  "interpreter": {
   "hash": "31f2aee4e71d21fbe5cf8b01ff0e069b9275f58929596ceb00d14d90e3e16cd6"
  },
  "kernelspec": {
   "display_name": "Python 3.8.10 64-bit",
   "language": "python",
   "name": "python3"
  },
  "language_info": {
   "codemirror_mode": {
    "name": "ipython",
    "version": 3
   },
   "file_extension": ".py",
   "mimetype": "text/x-python",
   "name": "python",
   "nbconvert_exporter": "python",
   "pygments_lexer": "ipython3",
   "version": "3.8.10"
  },
  "orig_nbformat": 4
 },
 "nbformat": 4,
 "nbformat_minor": 2
}
