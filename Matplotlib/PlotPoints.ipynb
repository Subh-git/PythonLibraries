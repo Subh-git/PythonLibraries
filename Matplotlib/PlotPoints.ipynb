{
 "cells": [
  {
   "cell_type": "code",
   "execution_count": null,
   "metadata": {},
   "outputs": [],
   "source": [
    "'''\n",
    "@Author: Subhadeep Bhattacharjee\n",
    "@Date: 2021:12:07 12:50\n",
    "@Title: To print the plots which have x and y coordinates\n",
    "\n",
    "'''"
   ]
  },
  {
   "cell_type": "code",
   "execution_count": null,
   "metadata": {},
   "outputs": [],
   "source": [
    "import matplotlib.pyplot as plt\n",
    "\n",
    "x1 = [2,4,6,8,10]\n",
    "y1=[value * 2 for value in  x1]\n",
    "\n",
    "x2=[3,5,6,8,9]\n",
    "y2 = [value + 5 for value in x2]\n",
    "\n",
    "plt.scatter(x1,y1,color = 'b')\n",
    "plt.scatter(x2,y2, color = 'g')\n",
    "plt.show()\n"
   ]
  }
 ],
 "metadata": {
  "interpreter": {
   "hash": "31f2aee4e71d21fbe5cf8b01ff0e069b9275f58929596ceb00d14d90e3e16cd6"
  },
  "kernelspec": {
   "display_name": "Python 3.8.10 64-bit",
   "language": "python",
   "name": "python3"
  },
  "language_info": {
   "codemirror_mode": {
    "name": "ipython",
    "version": 3
   },
   "file_extension": ".py",
   "mimetype": "text/x-python",
   "name": "python",
   "nbconvert_exporter": "python",
   "pygments_lexer": "ipython3",
   "version": "3.8.10"
  },
  "orig_nbformat": 4
 },
 "nbformat": 4,
 "nbformat_minor": 2
}
