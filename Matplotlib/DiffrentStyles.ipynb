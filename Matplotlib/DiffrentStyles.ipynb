{
 "cells": [
  {
   "cell_type": "code",
   "execution_count": null,
   "metadata": {},
   "outputs": [],
   "source": [
    "'''\n",
    "@Author: Subhadeep Bhattacharjee\n",
    "@Date: 2021:12:07 12:15\n",
    "@Title: To create two line plot with different styles\n",
    "\n",
    "'''"
   ]
  },
  {
   "cell_type": "code",
   "execution_count": null,
   "metadata": {},
   "outputs": [],
   "source": [
    "from matplotlib import pyplot as plt\n",
    "\n",
    "\n",
    "year_x = [2010,2012,2014,2016,2018,2020]\n",
    "pydev_y = [40000,45000,55000,58000,67000,80000]\n",
    "jsdev_y = [50000,55000,60000,63000,65000,70000]\n",
    "\n",
    "plt.title(\"Salary in years\")     #using custom hex colors  \n",
    "plt.plot(year_x, pydev_y, color = '#BBF90F', linestyle = 'dashdot', linewidth = 3, label = 'Python Dev')\n",
    "plt.plot(year_x, jsdev_y, color = '#13EAC9',linestyle = 'dotted', linewidth = 3,label = 'JavaScript Dev')\n",
    "plt.legend()\n",
    "plt.show()"
   ]
  }
 ],
 "metadata": {
  "interpreter": {
   "hash": "31f2aee4e71d21fbe5cf8b01ff0e069b9275f58929596ceb00d14d90e3e16cd6"
  },
  "kernelspec": {
   "display_name": "Python 3.8.10 64-bit",
   "language": "python",
   "name": "python3"
  },
  "language_info": {
   "codemirror_mode": {
    "name": "ipython",
    "version": 3
   },
   "file_extension": ".py",
   "mimetype": "text/x-python",
   "name": "python",
   "nbconvert_exporter": "python",
   "pygments_lexer": "ipython3",
   "version": "3.8.10"
  },
  "orig_nbformat": 4
 },
 "nbformat": 4,
 "nbformat_minor": 2
}
